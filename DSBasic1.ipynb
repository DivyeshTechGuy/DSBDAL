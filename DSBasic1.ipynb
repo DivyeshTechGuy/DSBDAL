{
 "cells": [
  {
   "cell_type": "code",
   "execution_count": 2,
   "id": "ef0e8ed2-fad2-43a3-895f-03f88eb829b3",
   "metadata": {},
   "outputs": [],
   "source": [
    "import pandas as pd\n",
    "d1 = pd.DataFrame({\n",
    "    \"rollno\" : [1,None,3,4],\"name\":[\"Div\",\"Pratham\",None,\"Yash\"]\n",
    "    })\n",
    "\n",
    "d2 = pd.DataFrame({\n",
    "    \"rollno\": [1,None,3,4], \"marks\" : [80,79,89,99]\n",
    "})\n"
   ]
  },
  {
   "cell_type": "code",
   "execution_count": 3,
   "id": "03d7e22e-cd81-4213-800a-51953424794b",
   "metadata": {},
   "outputs": [
    {
     "name": "stdout",
     "output_type": "stream",
     "text": [
      "   rollno     name  marks\n",
      "0     1.0      Div     80\n",
      "1     NaN  Pratham     79\n",
      "2     3.0     None     89\n",
      "3     4.0     Yash     99\n"
     ]
    }
   ],
   "source": [
    "df = pd.merge(d1,d2,on=\"rollno\")\n",
    "print(df)"
   ]
  },
  {
   "cell_type": "code",
   "execution_count": 4,
   "id": "7a3b5406-97a5-4a12-810f-226368d17641",
   "metadata": {},
   "outputs": [
    {
     "data": {
      "text/html": [
       "<div>\n",
       "<style scoped>\n",
       "    .dataframe tbody tr th:only-of-type {\n",
       "        vertical-align: middle;\n",
       "    }\n",
       "\n",
       "    .dataframe tbody tr th {\n",
       "        vertical-align: top;\n",
       "    }\n",
       "\n",
       "    .dataframe thead th {\n",
       "        text-align: right;\n",
       "    }\n",
       "</style>\n",
       "<table border=\"1\" class=\"dataframe\">\n",
       "  <thead>\n",
       "    <tr style=\"text-align: right;\">\n",
       "      <th>name</th>\n",
       "      <th>NaN</th>\n",
       "      <th>Div</th>\n",
       "      <th>Pratham</th>\n",
       "      <th>Yash</th>\n",
       "    </tr>\n",
       "    <tr>\n",
       "      <th>rollno</th>\n",
       "      <th></th>\n",
       "      <th></th>\n",
       "      <th></th>\n",
       "      <th></th>\n",
       "    </tr>\n",
       "  </thead>\n",
       "  <tbody>\n",
       "    <tr>\n",
       "      <th>NaN</th>\n",
       "      <td>NaN</td>\n",
       "      <td>NaN</td>\n",
       "      <td>79.0</td>\n",
       "      <td>NaN</td>\n",
       "    </tr>\n",
       "    <tr>\n",
       "      <th>1.0</th>\n",
       "      <td>NaN</td>\n",
       "      <td>80.0</td>\n",
       "      <td>NaN</td>\n",
       "      <td>NaN</td>\n",
       "    </tr>\n",
       "    <tr>\n",
       "      <th>3.0</th>\n",
       "      <td>89.0</td>\n",
       "      <td>NaN</td>\n",
       "      <td>NaN</td>\n",
       "      <td>NaN</td>\n",
       "    </tr>\n",
       "    <tr>\n",
       "      <th>4.0</th>\n",
       "      <td>NaN</td>\n",
       "      <td>NaN</td>\n",
       "      <td>NaN</td>\n",
       "      <td>99.0</td>\n",
       "    </tr>\n",
       "  </tbody>\n",
       "</table>\n",
       "</div>"
      ],
      "text/plain": [
       "name     NaN   Div  Pratham  Yash\n",
       "rollno                           \n",
       "NaN      NaN   NaN     79.0   NaN\n",
       "1.0      NaN  80.0      NaN   NaN\n",
       "3.0     89.0   NaN      NaN   NaN\n",
       "4.0      NaN   NaN      NaN  99.0"
      ]
     },
     "execution_count": 4,
     "metadata": {},
     "output_type": "execute_result"
    }
   ],
   "source": [
    "\n",
    "df.pivot(index = \"rollno\",columns=\"name\",values = \"marks\")\n"
   ]
  },
  {
   "cell_type": "code",
   "execution_count": 5,
   "id": "b00859b9-4392-439f-b63a-8d4ce6129057",
   "metadata": {},
   "outputs": [
    {
     "data": {
      "text/html": [
       "<div>\n",
       "<style scoped>\n",
       "    .dataframe tbody tr th:only-of-type {\n",
       "        vertical-align: middle;\n",
       "    }\n",
       "\n",
       "    .dataframe tbody tr th {\n",
       "        vertical-align: top;\n",
       "    }\n",
       "\n",
       "    .dataframe thead th {\n",
       "        text-align: right;\n",
       "    }\n",
       "</style>\n",
       "<table border=\"1\" class=\"dataframe\">\n",
       "  <thead>\n",
       "    <tr style=\"text-align: right;\">\n",
       "      <th></th>\n",
       "      <th>rollno</th>\n",
       "      <th>name</th>\n",
       "      <th>marks</th>\n",
       "    </tr>\n",
       "  </thead>\n",
       "  <tbody>\n",
       "    <tr>\n",
       "      <th>0</th>\n",
       "      <td>1.0</td>\n",
       "      <td>Div</td>\n",
       "      <td>80</td>\n",
       "    </tr>\n",
       "    <tr>\n",
       "      <th>1</th>\n",
       "      <td>1.0</td>\n",
       "      <td>Pratham</td>\n",
       "      <td>79</td>\n",
       "    </tr>\n",
       "    <tr>\n",
       "      <th>2</th>\n",
       "      <td>3.0</td>\n",
       "      <td>Pratham</td>\n",
       "      <td>89</td>\n",
       "    </tr>\n",
       "    <tr>\n",
       "      <th>3</th>\n",
       "      <td>4.0</td>\n",
       "      <td>Yash</td>\n",
       "      <td>99</td>\n",
       "    </tr>\n",
       "  </tbody>\n",
       "</table>\n",
       "</div>"
      ],
      "text/plain": [
       "   rollno     name  marks\n",
       "0     1.0      Div     80\n",
       "1     1.0  Pratham     79\n",
       "2     3.0  Pratham     89\n",
       "3     4.0     Yash     99"
      ]
     },
     "execution_count": 5,
     "metadata": {},
     "output_type": "execute_result"
    }
   ],
   "source": [
    "df.ffill(axis=0)"
   ]
  },
  {
   "cell_type": "code",
   "execution_count": 9,
   "id": "f68d3fe9-260b-416f-a740-98c0f84be469",
   "metadata": {
    "scrolled": true
   },
   "outputs": [
    {
     "data": {
      "text/html": [
       "<div>\n",
       "<style scoped>\n",
       "    .dataframe tbody tr th:only-of-type {\n",
       "        vertical-align: middle;\n",
       "    }\n",
       "\n",
       "    .dataframe tbody tr th {\n",
       "        vertical-align: top;\n",
       "    }\n",
       "\n",
       "    .dataframe thead th {\n",
       "        text-align: right;\n",
       "    }\n",
       "</style>\n",
       "<table border=\"1\" class=\"dataframe\">\n",
       "  <thead>\n",
       "    <tr style=\"text-align: right;\">\n",
       "      <th></th>\n",
       "      <th>Sr. no.</th>\n",
       "      <th>Roll No</th>\n",
       "      <th>Name of the Student</th>\n",
       "      <th>DM</th>\n",
       "      <th>FDS</th>\n",
       "      <th>OOP</th>\n",
       "      <th>CG</th>\n",
       "      <th>DELD</th>\n",
       "    </tr>\n",
       "    <tr>\n",
       "      <th>Gender</th>\n",
       "      <th></th>\n",
       "      <th></th>\n",
       "      <th></th>\n",
       "      <th></th>\n",
       "      <th></th>\n",
       "      <th></th>\n",
       "      <th></th>\n",
       "      <th></th>\n",
       "    </tr>\n",
       "  </thead>\n",
       "  <tbody>\n",
       "    <tr>\n",
       "      <th>F</th>\n",
       "      <td>17</td>\n",
       "      <td>SCOA17</td>\n",
       "      <td>KHATAL NANDINI RAJENDRA</td>\n",
       "      <td>12</td>\n",
       "      <td>12</td>\n",
       "      <td>5</td>\n",
       "      <td>7</td>\n",
       "      <td>AB</td>\n",
       "    </tr>\n",
       "    <tr>\n",
       "      <th>M</th>\n",
       "      <td>1</td>\n",
       "      <td>SCOA01</td>\n",
       "      <td>ALISHA SHEIKH</td>\n",
       "      <td>24</td>\n",
       "      <td>27</td>\n",
       "      <td>20</td>\n",
       "      <td>15</td>\n",
       "      <td>16</td>\n",
       "    </tr>\n",
       "  </tbody>\n",
       "</table>\n",
       "</div>"
      ],
      "text/plain": [
       "        Sr. no.  Roll No      Name of the Student  DM  FDS OOP  CG DELD\n",
       "Gender                                                                 \n",
       "F            17   SCOA17  KHATAL NANDINI RAJENDRA  12   12   5   7   AB\n",
       "M             1   SCOA01            ALISHA SHEIKH  24   27  20  15   16"
      ]
     },
     "execution_count": 9,
     "metadata": {},
     "output_type": "execute_result"
    }
   ],
   "source": [
    "\n",
    "d5 = pd.read_excel(\"DS1.xlsx\")\n",
    "\n",
    "\n",
    "d = d5.groupby(\"Gender\")\n",
    "\n",
    "d.first()\n"
   ]
  },
  {
   "cell_type": "code",
   "execution_count": 10,
   "id": "f5ba21a8-92f4-49e9-aab6-ae59be7ce782",
   "metadata": {},
   "outputs": [
    {
     "name": "stdout",
     "output_type": "stream",
     "text": [
      "0.5292160460702612\n"
     ]
    },
    {
     "name": "stderr",
     "output_type": "stream",
     "text": [
      "C:\\Users\\Admin\\AppData\\Local\\Temp\\ipykernel_13180\\2523123286.py:3: FutureWarning: Downcasting behavior in `replace` is deprecated and will be removed in a future version. To retain the old behavior, explicitly call `result.infer_objects(copy=False)`. To opt-in to the future behavior, set `pd.set_option('future.no_silent_downcasting', True)`\n",
      "  d5 = d5.replace(to_replace = \"AB\", value = 0)\n"
     ]
    }
   ],
   "source": [
    "import numpy as np\n",
    "d5 = d5.replace(to_replace = np.nan, value = 20)\n",
    "d5 = d5.replace(to_replace = \"AB\", value = 0)\n",
    "\n",
    "correlation = d5['DM'].corr(d5['DELD'])\n",
    "print(correlation)"
   ]
  },
  {
   "cell_type": "code",
   "execution_count": 11,
   "id": "eb342e62-c232-499f-80d0-728e23d0d5d1",
   "metadata": {},
   "outputs": [
    {
     "data": {
      "text/html": [
       "<div>\n",
       "<style scoped>\n",
       "    .dataframe tbody tr th:only-of-type {\n",
       "        vertical-align: middle;\n",
       "    }\n",
       "\n",
       "    .dataframe tbody tr th {\n",
       "        vertical-align: top;\n",
       "    }\n",
       "\n",
       "    .dataframe thead th {\n",
       "        text-align: right;\n",
       "    }\n",
       "</style>\n",
       "<table border=\"1\" class=\"dataframe\">\n",
       "  <thead>\n",
       "    <tr style=\"text-align: right;\">\n",
       "      <th></th>\n",
       "      <th>Sr. no.</th>\n",
       "      <th>Roll No</th>\n",
       "      <th>Name of the Student</th>\n",
       "      <th>DM</th>\n",
       "      <th>FDS</th>\n",
       "      <th>OOP</th>\n",
       "      <th>CG</th>\n",
       "      <th>DELD</th>\n",
       "    </tr>\n",
       "    <tr>\n",
       "      <th>Gender</th>\n",
       "      <th></th>\n",
       "      <th></th>\n",
       "      <th></th>\n",
       "      <th></th>\n",
       "      <th></th>\n",
       "      <th></th>\n",
       "      <th></th>\n",
       "      <th></th>\n",
       "    </tr>\n",
       "  </thead>\n",
       "  <tbody>\n",
       "    <tr>\n",
       "      <th>F</th>\n",
       "      <td>21</td>\n",
       "      <td>21</td>\n",
       "      <td>21</td>\n",
       "      <td>21</td>\n",
       "      <td>21</td>\n",
       "      <td>21</td>\n",
       "      <td>21</td>\n",
       "      <td>21</td>\n",
       "    </tr>\n",
       "    <tr>\n",
       "      <th>M</th>\n",
       "      <td>16</td>\n",
       "      <td>16</td>\n",
       "      <td>16</td>\n",
       "      <td>16</td>\n",
       "      <td>16</td>\n",
       "      <td>16</td>\n",
       "      <td>16</td>\n",
       "      <td>16</td>\n",
       "    </tr>\n",
       "  </tbody>\n",
       "</table>\n",
       "</div>"
      ],
      "text/plain": [
       "        Sr. no.   Roll No  Name of the Student  DM  FDS  OOP  CG  DELD\n",
       "Gender                                                                \n",
       "F            21        21                   21  21   21   21  21    21\n",
       "M            16        16                   16  16   16   16  16    16"
      ]
     },
     "execution_count": 11,
     "metadata": {},
     "output_type": "execute_result"
    }
   ],
   "source": [
    "d.count()"
   ]
  },
  {
   "cell_type": "code",
   "execution_count": 12,
   "id": "88f3e30e-67d8-4f86-8cfe-ad3f7e8eea0c",
   "metadata": {},
   "outputs": [
    {
     "data": {
      "text/plain": [
       "count    37.000000\n",
       "mean     18.621622\n",
       "std       4.009373\n",
       "min       8.000000\n",
       "25%      16.000000\n",
       "50%      20.000000\n",
       "75%      22.000000\n",
       "max      24.000000\n",
       "Name: DM, dtype: float64"
      ]
     },
     "execution_count": 12,
     "metadata": {},
     "output_type": "execute_result"
    }
   ],
   "source": [
    "d5['DM'].describe()"
   ]
  },
  {
   "cell_type": "code",
   "execution_count": 13,
   "id": "6ad38356-ed7c-427e-8ae9-4d5c25fd9f50",
   "metadata": {},
   "outputs": [
    {
     "data": {
      "text/plain": [
       "0     24\n",
       "1     16\n",
       "2     20\n",
       "3     18\n",
       "6     22\n",
       "16    12\n",
       "21    21\n",
       "25     8\n",
       "27    14\n",
       "Name: DM, dtype: int64"
      ]
     },
     "execution_count": 13,
     "metadata": {},
     "output_type": "execute_result"
    }
   ],
   "source": [
    "d5['DM'].drop_duplicates()"
   ]
  },
  {
   "cell_type": "code",
   "execution_count": 14,
   "id": "9326f4e7-aa78-4a5e-b64b-642084e6e7bb",
   "metadata": {},
   "outputs": [
    {
     "name": "stdout",
     "output_type": "stream",
     "text": [
      "    DM\n",
      "0   24\n",
      "1   16\n",
      "2   20\n",
      "3   18\n",
      "4   20\n",
      "5   20\n",
      "6   22\n",
      "7   24\n",
      "8   22\n",
      "9   24\n",
      "10  18\n",
      "11  20\n",
      "12  16\n",
      "13  16\n",
      "14  18\n",
      "15  20\n",
      "16  12\n",
      "17  24\n",
      "18  22\n",
      "19  20\n",
      "20  22\n",
      "21  21\n",
      "22  18\n",
      "23  20\n",
      "24  22\n",
      "25   8\n",
      "26  12\n",
      "27  14\n",
      "28  14\n",
      "29  12\n",
      "30  16\n",
      "31  24\n",
      "32  20\n",
      "33  22\n",
      "34  18\n",
      "35  14\n",
      "36  16\n"
     ]
    }
   ],
   "source": [
    "df = pd.read_excel(\"C:\\\\Users\\\\Admin\\\\Desktop\\\\JupyterProjects\\\\DS1.xlsx\")\n",
    "\n",
    "dm = df.filter(items=['DM'])\n",
    "print(dm)\n"
   ]
  },
  {
   "cell_type": "code",
   "execution_count": 16,
   "id": "f3723fc8-8275-4661-bd2f-549cb5228ea8",
   "metadata": {},
   "outputs": [
    {
     "data": {
      "image/png": "[encoded data removed]",
      "text/plain": [
       "<Figure size 1000x700 with 1 Axes>"
      ]
     },
     "metadata": {},
     "output_type": "display_data"
    }
   ],
   "source": [
    "import matplotlib.pyplot as plt\n",
    "fig = plt.figure(figsize =(10, 7))\n",
    "plt.boxplot(dm['DM'])\n",
    "plt.title(\"Boxplot Example\")\n",
    "plt.xlabel(\"Dataset\")\n",
    "plt.ylabel(\"Values\")\n",
    "plt.show()"
   ]
  },
  {
   "cell_type": "code",
   "execution_count": null,
   "id": "489eb1c2-5db9-4ffd-b969-44ec2c64ab0c",
   "metadata": {},
   "outputs": [],
   "source": []
  }
 ],
 "metadata": {
  "kernelspec": {
   "display_name": "Python 3 (ipykernel)",
   "language": "python",
   "name": "python3"
  },
  "language_info": {
   "codemirror_mode": {
    "name": "ipython",
    "version": 3
   },
   "file_extension": ".py",
   "mimetype": "text/x-python",
   "name": "python",
   "nbconvert_exporter": "python",
   "pygments_lexer": "ipython3",
   "version": "3.12.0"
  }
 },
 "nbformat": 4,
 "nbformat_minor": 5
}
