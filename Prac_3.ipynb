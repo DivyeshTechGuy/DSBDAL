{
 "cells": [
  {
   "cell_type": "code",
   "execution_count": null,
   "id": "7dcdab6f",
   "metadata": {},
   "outputs": [],
   "source": []
  },
  {
   "cell_type": "code",
   "execution_count": 22,
   "id": "1b4fce69-2094-46f4-a9af-91e15c4087a7",
   "metadata": {},
   "outputs": [
    {
     "name": "stdout",
     "output_type": "stream",
     "text": [
      "    YearsExperience   Age  MonthlyIncome     BusinessTravel Attrition\n",
      "0               1.1  21.0          39343  Travel_Frequently        No\n",
      "1               1.3  21.5          46205  Travel_Frequently        No\n",
      "2               1.5  21.7          37731      Travel_Rarely        No\n",
      "3               2.0  22.0          43525      Travel_Rarely       Yes\n",
      "4               2.2  22.2          39891      Travel_Rarely        No\n",
      "5               2.9  23.0          56642  Travel_Frequently       Yes\n",
      "6               3.0  23.0          60150      Travel_Rarely        No\n",
      "7               3.2  23.3          54445  Travel_Frequently        No\n",
      "8               3.2  23.3          64445      Travel_Rarely       Yes\n",
      "9               3.7  23.6          57189      Travel_Rarely        No\n",
      "10              3.9  23.9          63218  Travel_Frequently       Yes\n",
      "11              4.0  24.0          55794      Travel_Rarely        No\n",
      "12              4.0  24.0          56957      Travel_Rarely        No\n",
      "13              4.1  24.0          57081  Travel_Frequently        No\n",
      "14              4.5  25.0          61111  Travel_Frequently       Yes\n",
      "15              4.9  25.0          67938      Travel_Rarely        No\n",
      "16              5.1  26.0          66029  Travel_Frequently        No\n",
      "17              5.3  27.0          83088      Travel_Rarely       Yes\n",
      "18              5.9  28.0          81363  Travel_Frequently        No\n",
      "19              6.0  29.0          93940  Travel_Frequently        No\n",
      "20              6.8  30.0          91738      Travel_Rarely       Yes\n",
      "21              7.1  30.0          98273  Travel_Frequently        No\n",
      "22              7.9  31.0         101302      Travel_Rarely       Yes\n",
      "23              8.2  32.0         113812  Travel_Frequently        No\n",
      "24              8.7  33.0         109431      Travel_Rarely       Yes\n",
      "25              9.0  34.0         105582  Travel_Frequently        No\n",
      "26              9.5  35.0         116969      Travel_Rarely       Yes\n",
      "27              9.6  36.0         112635  Travel_Frequently        No\n",
      "28             10.3  37.0         122391      Travel_Rarely       Yes\n",
      "29             10.5  38.0         121872  Travel_Frequently        No\n"
     ]
    }
   ],
   "source": [
    "import numpy as np\n",
    "import pandas as pd\n",
    "\n",
    "df = pd.read_csv(\"Salary_Data.csv\")\n",
    "print(df)"
   ]
  },
  {
   "cell_type": "code",
   "execution_count": 23,
   "id": "e064ac4e-4e70-4ef5-befd-8011ed4536b0",
   "metadata": {},
   "outputs": [
    {
     "name": "stdout",
     "output_type": "stream",
     "text": [
      "The mean of monthly income is : 76003.0\n",
      "The mean of age is : 27.216666666666665\n"
     ]
    }
   ],
   "source": [
    "print(\"The mean of monthly income is :\",df.loc[:,\"MonthlyIncome\"].mean())\n",
    "print(\"The mean of age is :\",df.loc[:,\"Age\"].mean())"
   ]
  },
  {
   "cell_type": "code",
   "execution_count": 24,
   "id": "4c6982e9-6c1b-4458-9115-2a8eb00e4497",
   "metadata": {},
   "outputs": [
    {
     "name": "stdout",
     "output_type": "stream",
     "text": [
      "The median of monthly income is : 65237.0\n",
      "The median of age is : 25.0\n"
     ]
    }
   ],
   "source": [
    "print(\"The median of monthly income is :\",df.loc[:,\"MonthlyIncome\"].median())\n",
    "print(\"The median of age is :\",df.loc[:,\"Age\"].median())"
   ]
  },
  {
   "cell_type": "code",
   "execution_count": 25,
   "id": "fd4a1ebc-d17e-4afc-a2ab-086b1217be2e",
   "metadata": {},
   "outputs": [
    {
     "name": "stdout",
     "output_type": "stream",
     "text": [
      "The mode of monthly income is : 0      37731\n",
      "1      39343\n",
      "2      39891\n",
      "3      43525\n",
      "4      46205\n",
      "5      54445\n",
      "6      55794\n",
      "7      56642\n",
      "8      56957\n",
      "9      57081\n",
      "10     57189\n",
      "11     60150\n",
      "12     61111\n",
      "13     63218\n",
      "14     64445\n",
      "15     66029\n",
      "16     67938\n",
      "17     81363\n",
      "18     83088\n",
      "19     91738\n",
      "20     93940\n",
      "21     98273\n",
      "22    101302\n",
      "23    105582\n",
      "24    109431\n",
      "25    112635\n",
      "26    113812\n",
      "27    116969\n",
      "28    121872\n",
      "29    122391\n",
      "Name: MonthlyIncome, dtype: int64\n",
      "The mode of age is : 0    24.0\n",
      "Name: Age, dtype: float64\n"
     ]
    }
   ],
   "source": [
    "print(\"The mode of monthly income is :\",df.loc[:,\"MonthlyIncome\"].mode())\n",
    "print(\"The mode of age is :\",df.loc[:,\"Age\"].mode())"
   ]
  },
  {
   "cell_type": "code",
   "execution_count": 26,
   "id": "777c2ee9-ef8c-4f6f-8b3b-e5dfd9b5b3db",
   "metadata": {},
   "outputs": [
    {
     "name": "stdout",
     "output_type": "stream",
     "text": [
      "The standard deviation of monthly income is : 27414.4297845823\n",
      "The standard deviation of age is : 5.161267108077196\n"
     ]
    }
   ],
   "source": [
    "print(\"The standard deviation of monthly income is :\",df.loc[:,\"MonthlyIncome\"].std())\n",
    "print(\"The standard deviation of age is :\",df.loc[:,\"Age\"].std())"
   ]
  },
  {
   "cell_type": "code",
   "execution_count": 27,
   "id": "cae702c9-841f-4306-bdff-8178936d8e82",
   "metadata": {},
   "outputs": [
    {
     "name": "stdout",
     "output_type": "stream",
     "text": [
      "Income [ 39343  46205  37731  43525  39891  56642  60150  54445  64445  57189\n",
      "  63218  55794  56957  57081  61111  67938  66029  83088  81363  93940\n",
      "  91738  98273 101302 113812 109431 105582 116969 112635 122391 121872]\n",
      "Age array [21.  21.5 21.7 22.  22.2 23.  23.  23.3 23.3 23.6 23.9 24.  24.  24.\n",
      " 25.  25.  26.  27.  28.  29.  30.  30.  31.  32.  33.  34.  35.  36.\n",
      " 37.  38. ]\n"
     ]
    }
   ],
   "source": [
    "array1 = np.array(df['MonthlyIncome'])\n",
    "array2=np.array(df[\"Age\"])\n",
    "print(\"Income\",array1)\n",
    "print(\"Age array\",array2)"
   ]
  },
  {
   "cell_type": "code",
   "execution_count": 28,
   "id": "c9c730b0-3ce3-47a8-a524-c8626aed4dcd",
   "metadata": {},
   "outputs": [
    {
     "name": "stdout",
     "output_type": "stream",
     "text": [
      "Maximum income among the employees is : 122391\n",
      "Minimum income among the employees is : 37731\n",
      "Maximum age among the employees is : 38.0\n",
      "Minimum age among the employees is : 21.0\n"
     ]
    }
   ],
   "source": [
    "print(\"Maximum income among the employees is :\",max(array1))\n",
    "print(\"Minimum income among the employees is :\",min(array1))\n",
    "print(\"Maximum age among the employees is :\",max(array2))\n",
    "print(\"Minimum age among the employees is :\",min(array2))"
   ]
  },
  {
   "cell_type": "code",
   "execution_count": 30,
   "id": "f9cfa47f-6e94-4aef-b304-ac2eae09beb6",
   "metadata": {},
   "outputs": [
    {
     "data": {
      "text/html": [
       "<div>\n",
       "<style scoped>\n",
       "    .dataframe tbody tr th:only-of-type {\n",
       "        vertical-align: middle;\n",
       "    }\n",
       "\n",
       "    .dataframe tbody tr th {\n",
       "        vertical-align: top;\n",
       "    }\n",
       "\n",
       "    .dataframe thead th {\n",
       "        text-align: right;\n",
       "    }\n",
       "</style>\n",
       "<table border=\"1\" class=\"dataframe\">\n",
       "  <thead>\n",
       "    <tr style=\"text-align: right;\">\n",
       "      <th></th>\n",
       "      <th>YearsExperience</th>\n",
       "      <th>Age</th>\n",
       "      <th>MonthlyIncome</th>\n",
       "      <th>BusinessTravel</th>\n",
       "      <th>Attrition</th>\n",
       "    </tr>\n",
       "  </thead>\n",
       "  <tbody>\n",
       "    <tr>\n",
       "      <th>0</th>\n",
       "      <td>1.1</td>\n",
       "      <td>21.0</td>\n",
       "      <td>39343</td>\n",
       "      <td>0</td>\n",
       "      <td>0</td>\n",
       "    </tr>\n",
       "    <tr>\n",
       "      <th>1</th>\n",
       "      <td>1.3</td>\n",
       "      <td>21.5</td>\n",
       "      <td>46205</td>\n",
       "      <td>0</td>\n",
       "      <td>0</td>\n",
       "    </tr>\n",
       "    <tr>\n",
       "      <th>2</th>\n",
       "      <td>1.5</td>\n",
       "      <td>21.7</td>\n",
       "      <td>37731</td>\n",
       "      <td>1</td>\n",
       "      <td>0</td>\n",
       "    </tr>\n",
       "    <tr>\n",
       "      <th>3</th>\n",
       "      <td>2.0</td>\n",
       "      <td>22.0</td>\n",
       "      <td>43525</td>\n",
       "      <td>1</td>\n",
       "      <td>1</td>\n",
       "    </tr>\n",
       "    <tr>\n",
       "      <th>4</th>\n",
       "      <td>2.2</td>\n",
       "      <td>22.2</td>\n",
       "      <td>39891</td>\n",
       "      <td>1</td>\n",
       "      <td>0</td>\n",
       "    </tr>\n",
       "  </tbody>\n",
       "</table>\n",
       "</div>"
      ],
      "text/plain": [
       "   YearsExperience   Age  MonthlyIncome  BusinessTravel  Attrition\n",
       "0              1.1  21.0          39343               0          0\n",
       "1              1.3  21.5          46205               0          0\n",
       "2              1.5  21.7          37731               1          0\n",
       "3              2.0  22.0          43525               1          1\n",
       "4              2.2  22.2          39891               1          0"
      ]
     },
     "execution_count": 30,
     "metadata": {},
     "output_type": "execute_result"
    }
   ],
   "source": [
    "\n",
    "df[\"BusinessTravel\"].replace({\"Travel_Rarely\":1, \"Travel_Frequently\":0}, inplace=True)\n",
    "df[\"Attrition\"].replace({ \"Yes\":1, \"No\":0}, inplace=True)\n",
    "df.head()"
   ]
  },
  {
   "cell_type": "code",
   "execution_count": 53,
   "id": "0b61f88e-22d8-4eb2-9b28-f27c29559ea1",
   "metadata": {},
   "outputs": [
    {
     "data": {
      "text/plain": [
       "['Sepal_Length', 'Sepal_Width', 'Petal_Length', 'Petal_Width', 'species']"
      ]
     },
     "execution_count": 53,
     "metadata": {},
     "output_type": "execute_result"
    }
   ],
   "source": [
    "\n",
    "iris = pd.read_csv('iris.data.txt')\n",
    "\n",
    "\n",
    "iris.columns.tolist()"
   ]
  },
  {
   "cell_type": "code",
   "execution_count": 61,
   "id": "5d31bb1f-675a-48cb-b81c-e552f1d78d80",
   "metadata": {},
   "outputs": [
    {
     "name": "stdout",
     "output_type": "stream",
     "text": [
      "Statistics for Iris-setosa:\n",
      "               mean       std  min    25%  50%    75%  max\n",
      "Sepal_Length  4.974  0.419334  3.4  4.800  5.0  5.200  5.8\n",
      "Sepal_Width   3.418  0.381024  2.3  3.125  3.4  3.675  4.4\n",
      "Petal_Length  1.454  0.190820  0.9  1.400  1.5  1.575  1.9\n",
      "Petal_Width   0.244  0.107210  0.1  0.200  0.2  0.300  0.6\n",
      "Statistics for Iris-versicolor:\n",
      "               mean       std  min    25%   50%  75%  max\n",
      "Sepal_Length  5.936  0.516171  4.9  5.600  5.90  6.3  7.0\n",
      "Sepal_Width   2.770  0.313798  2.0  2.525  2.80  3.0  3.4\n",
      "Petal_Length  4.260  0.469911  3.0  4.000  4.35  4.6  5.1\n",
      "Petal_Width   1.326  0.197753  1.0  1.200  1.30  1.5  1.8\n",
      "Statistics for Iris-virginica:\n",
      "               mean       std  min    25%   50%    75%  max\n",
      "Sepal_Length  6.588  0.635880  4.9  6.225  6.50  6.900  7.9\n",
      "Sepal_Width   2.974  0.322497  2.2  2.800  3.00  3.175  3.8\n",
      "Petal_Length  5.552  0.551895  4.5  5.100  5.55  5.875  6.9\n",
      "Petal_Width   2.026  0.274650  1.4  1.800  2.00  2.300  2.5\n"
     ]
    }
   ],
   "source": [
    "species_list = ['Iris-setosa', 'Iris-versicolor', 'Iris-virginica']\n",
    "for species in species_list:\n",
    "    print(f\"Statistics for {species}:\")\n",
    "    species_data = iris[iris['species'] == species].drop(columns=['species'])\n",
    "    stats = species_data.describe().T\n",
    "    print(stats[['mean','std','min','25%','50%','75%','max']])\n",
    "  \n",
    "    \n",
    "\n"
   ]
  },
  {
   "cell_type": "code",
   "execution_count": null,
   "id": "e8f72a91-d633-4182-a35a-0976d1192d97",
   "metadata": {},
   "outputs": [],
   "source": []
  }
 ],
 "metadata": {
  "kernelspec": {
   "display_name": "Python 3 (ipykernel)",
   "language": "python",
   "name": "python3"
  },
  "language_info": {
   "codemirror_mode": {
    "name": "ipython",
    "version": 3
   },
   "file_extension": ".py",
   "mimetype": "text/x-python",
   "name": "python",
   "nbconvert_exporter": "python",
   "pygments_lexer": "ipython3",
   "version": "3.12.0"
  }
 },
 "nbformat": 4,
 "nbformat_minor": 5
}
